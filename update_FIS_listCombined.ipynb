{
 "cells": [
  {
   "cell_type": "code",
   "execution_count": null,
   "metadata": {},
   "outputs": [],
   "source": [
    "import pandas as pd\n",
    "import os\n",
    "import pickle\n",
    "\n",
    "# Directory containing the CSV files\n",
    "directory = '/Users/marcgurber/Library/CloudStorage/OneDrive-SharedLibraries-Swiss-Ski/Teams_My Swiss-Ski - Analytics - Code/Lists_FIS'\n",
    "\n",
    "# Get a list of all the files (filenames) in the directory\n",
    "file_list = [f for f in os.listdir(directory) if f.endswith('.csv')]\n",
    "\n",
    "# Extract year and number from filenames and keep track of the highest number for each year\n",
    "file_dict = {}\n",
    "for file in file_list:\n",
    "    parts = file.split('-')\n",
    "    if len(parts) >= 5:\n",
    "        year = parts[4]\n",
    "        number = int(parts[5].split('.')[0])\n",
    "        print(f\"Processing file: {file}, Year: {year}, Number: {number}\")\n",
    "        if year not in file_dict or number > file_dict[year][1]:\n",
    "            file_dict[year] = (file, number)\n",
    "            print(f\"Updated file_dict[{year}] to: {file_dict[year]}\")\n",
    "\n",
    "print(\"File dictionary:\", file_dict)\n",
    "\n",
    "# Get the list of files with the highest number for each year\n",
    "highest_number_files = [os.path.join(directory, file_dict[year][0]) for year in file_dict]\n",
    "\n",
    "# Read and combine the data from these files\n",
    "dfs = [pd.read_csv(file) for file in highest_number_files]\n",
    "combined_df = pd.concat(dfs, ignore_index=True)\n",
    "\n",
    "# Save the combined DataFrame to a pickle file\n",
    "pickle_file_path = os.path.join('data/fis_list_combined_01_04_25.pkl')\n",
    "with open(pickle_file_path, 'wb') as f:\n",
    "    pickle.dump(combined_df, f)\n",
    "print(f\"Combined DataFrame saved to: {pickle_file_path}\")\n",
    "    "
   ]
  }
 ],
 "metadata": {
  "kernelspec": {
   "display_name": "SWISSSKI",
   "language": "python",
   "name": "python3"
  },
  "language_info": {
   "codemirror_mode": {
    "name": "ipython",
    "version": 3
   },
   "file_extension": ".py",
   "mimetype": "text/x-python",
   "name": "python",
   "nbconvert_exporter": "python",
   "pygments_lexer": "ipython3",
   "version": "3.12.9"
  }
 },
 "nbformat": 4,
 "nbformat_minor": 2
}
